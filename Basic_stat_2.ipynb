{
  "nbformat": 4,
  "nbformat_minor": 0,
  "metadata": {
    "colab": {
      "provenance": [],
      "authorship_tag": "ABX9TyOlHmLCkC5P/xxoi0eFnhOV",
      "include_colab_link": true
    },
    "kernelspec": {
      "name": "python3",
      "display_name": "Python 3"
    },
    "language_info": {
      "name": "python"
    }
  },
  "cells": [
    {
      "cell_type": "markdown",
      "metadata": {
        "id": "view-in-github",
        "colab_type": "text"
      },
      "source": [
        "<a href=\"https://colab.research.google.com/github/janhavidusad21/Data-science-Assigment/blob/main/Basic_stat_2.ipynb\" target=\"_parent\"><img src=\"https://colab.research.google.com/assets/colab-badge.svg\" alt=\"Open In Colab\"/></a>"
      ]
    },
    {
      "cell_type": "markdown",
      "source": [
        "### ***a. Build 99% Confidence Interval Using Sample Standard Deviation***\n"
      ],
      "metadata": {
        "id": "ut5rKwls-rzD"
      }
    },
    {
      "cell_type": "code",
      "execution_count": 5,
      "metadata": {
        "colab": {
          "base_uri": "https://localhost:8080/"
        },
        "id": "5S3U8MiJ-C5J",
        "outputId": "1c0de3e1-9e6f-4753-bb6c-af9ced595a7f"
      },
      "outputs": [
        {
          "output_type": "stream",
          "name": "stdout",
          "text": [
            "Sample mean: 1.239\n",
            "Sample standard deviation: 0.193\n",
            "Standard Error: 0.050\n",
            "t-critical (df=14, 99% CI): 2.977\n",
            "Margin of Error: 0.148\n",
            "99% Confidence Interval: (1.090, 1.387)\n"
          ]
        }
      ],
      "source": [
        "\n",
        "import numpy as np\n",
        "from scipy import stats\n",
        "\n",
        "data = [1.13, 1.55, 1.43, 0.92, 1.25, 1.36, 1.32, 0.85, 1.07,\n",
        "              1.48, 1.20, 1.33, 1.18, 1.22, 1.29]\n",
        "\n",
        "n = len(data)\n",
        "mean = np.mean(data)\n",
        "s = np.std(data, ddof=1)\n",
        "SE = s / np.sqrt(n)\n",
        "\n",
        "confidence = 0.99\n",
        "df = n - 1\n",
        "alpha = 1 - confidence\n",
        "\n",
        "t_critical = stats.t.ppf(1 - alpha/2, df)\n",
        "\n",
        "ME = t_critical * SE\n",
        "\n",
        "lower = mean - ME\n",
        "upper = mean + ME\n",
        "\n",
        "print(f\"Sample mean: {mean:.3f}\")\n",
        "print(f\"Sample standard deviation: {s:.3f}\")\n",
        "print(f\"Standard Error: {SE:.3f}\")\n",
        "print(f\"t-critical (df={df}, 99% CI): {t_critical:.3f}\")\n",
        "print(f\"Margin of Error: {ME:.3f}\")\n",
        "print(f\"99% Confidence Interval: ({lower:.3f}, {upper:.3f})\")\n"
      ]
    },
    {
      "cell_type": "markdown",
      "source": [
        " Find the standard error (SE)\n",
        "\n",
        " Find the t-critical value:\n",
        "\n",
        "    Degrees of freedom (df) = n − 1 = 14\n",
        "    For 99% CI and df = 14\n",
        "\n",
        "\n",
        "Compute the margin of error (ME)\n",
        "\n",
        "\n",
        "\n",
        "Construct the confidence interval"
      ],
      "metadata": {
        "id": "uOBguZT7_j9U"
      }
    },
    {
      "cell_type": "markdown",
      "source": [
        "# **INTERPRETATION**"
      ],
      "metadata": {
        "id": "d9j9g-86_Fl1"
      }
    },
    {
      "cell_type": "markdown",
      "source": [
        "I Am 99% confident that the true mean number of characters a print-head can print before failure lies between 1.03 and 1.33 million characters, assuming our sample is representative of the population\n",
        "\n"
      ],
      "metadata": {
        "id": "Uia-MUUl_UJn"
      }
    },
    {
      "cell_type": "markdown",
      "source": [
        "### **b. Build 99% Confidence Interval Using Known Population Standard Deviation**"
      ],
      "metadata": {
        "id": "czaLJy4AAGEa"
      }
    },
    {
      "cell_type": "markdown",
      "source": [
        "assuming the population standard deviation (σ) is known: σ = 0.2 million characters\n",
        "When σ is known you use the Z-distribution instead of the t-distribution.\n",
        "\n"
      ],
      "metadata": {
        "id": "eVfQh6HCApkf"
      }
    },
    {
      "cell_type": "code",
      "source": [
        "\n",
        "sigma = 0.2\n",
        "n = len(data)\n",
        "mean = np.mean(data)\n",
        "SE = sigma / np.sqrt(n)\n",
        "\n",
        "\n",
        "confidence = 0.99\n",
        "alpha = 1 - confidence\n",
        "Z_critical = stats.norm.ppf(1 - alpha/2)\n",
        "\n",
        "ME = Z_critical * SE\n",
        "\n",
        "lower = mean - ME\n",
        "upper = mean + ME\n",
        "\n",
        "print(f\"Sample mean: {mean:.3f}\")\n",
        "print(f\"Known population standard deviation: {sigma:.3f}\")\n",
        "print(f\"Standard Error: {SE:.3f}\")\n",
        "print(f\"Z-critical (99% CI): {Z_critical:.3f}\")\n",
        "print(f\"Margin of Error: {ME:.3f}\")\n",
        "print(f\"99% Confidence Interval (σ known): ({lower:.3f}, {upper:.3f})\")\n"
      ],
      "metadata": {
        "colab": {
          "base_uri": "https://localhost:8080/"
        },
        "id": "J9tzzee7ALrH",
        "outputId": "0bc4a5d4-da85-418a-a342-50e64d8442c5"
      },
      "execution_count": 9,
      "outputs": [
        {
          "output_type": "stream",
          "name": "stdout",
          "text": [
            "Sample mean: 1.239\n",
            "Known population standard deviation: 0.200\n",
            "Standard Error: 0.052\n",
            "Z-critical (99% CI): 2.576\n",
            "Margin of Error: 0.133\n",
            "99% Confidence Interval (σ known): (1.106, 1.372)\n"
          ]
        }
      ]
    }
  ]
}