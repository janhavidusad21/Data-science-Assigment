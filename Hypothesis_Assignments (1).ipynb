{
  "cells": [
    {
      "cell_type": "markdown",
      "id": "06bf0d84-dba8-4e6e-bf2c-7124fc7b1fc9",
      "metadata": {
        "id": "06bf0d84-dba8-4e6e-bf2c-7124fc7b1fc9"
      },
      "source": [
        "## HYPOTHESIS TESTING"
      ]
    },
    {
      "cell_type": "code",
      "execution_count": 1,
      "id": "f550631e-bcd9-4c93-9e2d-720739a706d1",
      "metadata": {
        "id": "f550631e-bcd9-4c93-9e2d-720739a706d1"
      },
      "outputs": [],
      "source": [
        "import pandas as pd\n",
        "import numpy as np\n",
        "from scipy import stats"
      ]
    },
    {
      "cell_type": "markdown",
      "id": "7be7cb05-d09f-4e6d-9514-9f0679a7821b",
      "metadata": {
        "id": "7be7cb05-d09f-4e6d-9514-9f0679a7821b"
      },
      "source": [
        "## 1. State the Hypothesis statement:"
      ]
    },
    {
      "cell_type": "markdown",
      "source": [
        "Hyppthesis Testing is a statistical method that used in making statistical decision using experiment data,\n",
        "hypothesis testing is basically an assumption that we make about the population parameter.\n",
        "Null Hypothesis (H₀): Assumes there is no significant effect or relationship between variables.\n",
        "Alternative Hypothesis (H₁ or Ha): Assumes there is a significant effect or relationship between variables."
      ],
      "metadata": {
        "id": "oZIY-Nc2plQB"
      },
      "id": "oZIY-Nc2plQB"
    },
    {
      "cell_type": "markdown",
      "id": "e187a8c0-4745-4cbe-b349-979a3adbe59c",
      "metadata": {
        "id": "e187a8c0-4745-4cbe-b349-979a3adbe59c"
      },
      "source": [
        "## 2. Calculate the Test Statistic:"
      ]
    },
    {
      "cell_type": "code",
      "execution_count": 2,
      "id": "1cc1ca39-ad8d-45df-96d9-5a42f2cfa759",
      "metadata": {
        "colab": {
          "base_uri": "https://localhost:8080/"
        },
        "id": "1cc1ca39-ad8d-45df-96d9-5a42f2cfa759",
        "outputId": "eb77dddc-92f8-447f-a834-659b182ce2f4"
      },
      "outputs": [
        {
          "output_type": "stream",
          "name": "stdout",
          "text": [
            "Theoretical mean weekly cost (μ): 4000 Rs\n",
            "Test Statistic (t): -38.0\n"
          ]
        }
      ],
      "source": [
        "import numpy as np\n",
        "\n",
        "\n",
        "x_bar = 3050\n",
        "n = 25\n",
        "sigma = 5 * 25\n",
        "\n",
        "X = 600\n",
        "mu = 1000 + 5 * X\n",
        "print(f\"Theoretical mean weekly cost (μ): {mu} Rs\")\n",
        "\n",
        "\n",
        "t_statistic = (x_bar - mu) / (sigma / np.sqrt(n))\n",
        "print(f\"Test Statistic (t): {t_statistic}\")\n"
      ]
    },
    {
      "cell_type": "code",
      "execution_count": null,
      "id": "f6a29325-bedc-4d41-8bd2-4b4e1d7bcbe0",
      "metadata": {
        "id": "f6a29325-bedc-4d41-8bd2-4b4e1d7bcbe0"
      },
      "outputs": [],
      "source": []
    },
    {
      "cell_type": "markdown",
      "id": "a91ac73c-3f55-4a07-beb6-37c9702e31ec",
      "metadata": {
        "id": "a91ac73c-3f55-4a07-beb6-37c9702e31ec"
      },
      "source": [
        "## 3. Determine the Critical Value:\n",
        "Using the alpha level of 5% (α = 0.05), determine the critical value from the standard normal (Z) distribution table.\n"
      ]
    },
    {
      "cell_type": "code",
      "execution_count": 3,
      "id": "1ca4f624-fc3a-4898-b75f-4cdd75dde31b",
      "metadata": {
        "colab": {
          "base_uri": "https://localhost:8080/"
        },
        "id": "1ca4f624-fc3a-4898-b75f-4cdd75dde31b",
        "outputId": "c66df3a7-5bbc-4b9f-8bc8-811e162586fc"
      },
      "outputs": [
        {
          "output_type": "execute_result",
          "data": {
            "text/plain": [
              "np.float64(0.35364376119863666)"
            ]
          },
          "metadata": {},
          "execution_count": 3
        }
      ],
      "source": [
        "#stats.t.cdf(t,df)\n",
        "stats.t.cdf(-.38,24)"
      ]
    },
    {
      "cell_type": "code",
      "execution_count": 4,
      "id": "92544955-0dd0-4a00-931d-b806baee3fa2",
      "metadata": {
        "colab": {
          "base_uri": "https://localhost:8080/"
        },
        "id": "92544955-0dd0-4a00-931d-b806baee3fa2",
        "outputId": "07d33566-b208-4a1d-b9c8-629702d692cd"
      },
      "outputs": [
        {
          "output_type": "stream",
          "name": "stdout",
          "text": [
            "Rounded Value= 1.6449\n"
          ]
        }
      ],
      "source": [
        "import scipy.stats as stats\n",
        "\n",
        "alpha = 0.05   # Define the significance level\n",
        "z_critical = stats.norm.ppf(1 - alpha)\n",
        "\n",
        "z_critical\n",
        "print(\"Rounded Value=\",round(z_critical,4))"
      ]
    },
    {
      "cell_type": "markdown",
      "id": "f0344071-8a22-455a-b829-fd1bc23b968c",
      "metadata": {
        "id": "f0344071-8a22-455a-b829-fd1bc23b968c"
      },
      "source": [
        "## 4. Make a Decision:\n",
        "Compare the test statistic with the critical value to decide whether to reject the null hypothesis.\n"
      ]
    },
    {
      "cell_type": "code",
      "execution_count": null,
      "id": "c08cee53-902b-44dd-bd7a-ccc1c5637910",
      "metadata": {
        "id": "c08cee53-902b-44dd-bd7a-ccc1c5637910"
      },
      "outputs": [],
      "source": [
        "## t = -38\n",
        "## z = 1.6449"
      ]
    },
    {
      "cell_type": "markdown",
      "source": [
        "In this case: [ -38 < 1.6449 ]\n",
        "\n",
        " we reject the null hypothesis."
      ],
      "metadata": {
        "id": "CiVI8Bfip6fY"
      },
      "id": "CiVI8Bfip6fY"
    },
    {
      "cell_type": "markdown",
      "id": "a9c6d79b-021d-4084-be66-e4a65979ba4b",
      "metadata": {
        "id": "a9c6d79b-021d-4084-be66-e4a65979ba4b"
      },
      "source": [
        "## 5. Conclusion:"
      ]
    },
    {
      "cell_type": "markdown",
      "source": [
        "Based on the decision in step 4, there is strong evidence to support the restaurant owners’ claim that the weekly operating\n",
        "costs are higher than the model suggests."
      ],
      "metadata": {
        "id": "-IEQid1cp9yt"
      },
      "id": "-IEQid1cp9yt"
    }
  ],
  "metadata": {
    "kernelspec": {
      "display_name": "Python 3 (ipykernel)",
      "language": "python",
      "name": "python3"
    },
    "language_info": {
      "codemirror_mode": {
        "name": "ipython",
        "version": 3
      },
      "file_extension": ".py",
      "mimetype": "text/x-python",
      "name": "python",
      "nbconvert_exporter": "python",
      "pygments_lexer": "ipython3",
      "version": "3.12.4"
    },
    "colab": {
      "provenance": []
    }
  },
  "nbformat": 4,
  "nbformat_minor": 5
}