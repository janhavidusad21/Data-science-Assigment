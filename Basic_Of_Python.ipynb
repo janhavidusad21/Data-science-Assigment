{
  "nbformat": 4,
  "nbformat_minor": 0,
  "metadata": {
    "colab": {
      "provenance": [],
      "authorship_tag": "ABX9TyO0B/C093Wmg743n803CY0m",
      "include_colab_link": true
    },
    "kernelspec": {
      "name": "python3",
      "display_name": "Python 3"
    },
    "language_info": {
      "name": "python"
    }
  },
  "cells": [
    {
      "cell_type": "markdown",
      "metadata": {
        "id": "view-in-github",
        "colab_type": "text"
      },
      "source": [
        "<a href=\"https://colab.research.google.com/github/janhavidusad21/Data-science-Assigment/blob/main/Basic_Of_Python.ipynb\" target=\"_parent\"><img src=\"https://colab.research.google.com/assets/colab-badge.svg\" alt=\"Open In Colab\"/></a>"
      ]
    },
    {
      "cell_type": "markdown",
      "source": [
        "Check the number is prime or not\n"
      ],
      "metadata": {
        "id": "MUwq9NBnQEkJ"
      }
    },
    {
      "cell_type": "code",
      "source": [
        "import numpy as np\n",
        "import math\n"
      ],
      "metadata": {
        "id": "psNSKhWpOXIu"
      },
      "execution_count": 1,
      "outputs": []
    },
    {
      "cell_type": "code",
      "execution_count": 2,
      "metadata": {
        "colab": {
          "base_uri": "https://localhost:8080/"
        },
        "id": "GlCIutVkBJst",
        "outputId": "ae031488-e6ad-48f2-b819-813704f7daac"
      },
      "outputs": [
        {
          "output_type": "stream",
          "name": "stdout",
          "text": [
            "Enter a number:45\n",
            "45 is prime number\n"
          ]
        }
      ],
      "source": [
        "from pickle import TRUE\n",
        "\n",
        "\n",
        "num = int(input(\"Enter a number:\"))\n",
        "\n",
        "if num <=1:\n",
        "    print(f\"{num} is not a prime number\")\n",
        "else:\n",
        "    is_prime = True\n",
        "    for i in range(2,int(math.sqrt(num))+1):\n",
        "      if num % i ==0:\n",
        "        print(num,\"is not prime number\")\n",
        "        break\n",
        "      else:\n",
        "        print(num,\"is prime number\")\n",
        "        break\n",
        "\n",
        "\n",
        "\n",
        "\n"
      ]
    },
    {
      "cell_type": "code",
      "source": [
        "import random"
      ],
      "metadata": {
        "id": "AWn_B3N4Q5vU"
      },
      "execution_count": 3,
      "outputs": []
    },
    {
      "cell_type": "code",
      "source": [
        "num1= random.randint(1,100)\n",
        "print(num1)\n",
        "num2=random.randint(1,100)\n",
        "print(num2)\n",
        "result=int(input(\"enter the product of given number:\"))\n",
        "if result==num1*num2:\n",
        "  print(\"Great\")\n",
        "else:\n",
        "  print(\"try again\")"
      ],
      "metadata": {
        "colab": {
          "base_uri": "https://localhost:8080/"
        },
        "id": "I1p-Yo6vQNYR",
        "outputId": "dfddd0ce-da09-4637-b8a4-f18ce9f81635"
      },
      "execution_count": 4,
      "outputs": [
        {
          "output_type": "stream",
          "name": "stdout",
          "text": [
            "20\n",
            "64\n",
            "enter the product of given number:34\n",
            "try again\n"
          ]
        }
      ]
    },
    {
      "cell_type": "code",
      "source": [
        "for i in range(100,201):\n",
        "  if i % 2==0:\n",
        "    square= i **2\n",
        "    print(\"the square of\",i ,\"is:\",square)\n",
        "\n"
      ],
      "metadata": {
        "colab": {
          "base_uri": "https://localhost:8080/"
        },
        "id": "L15C_jhWRTpA",
        "outputId": "6a8b03a9-0a3e-44cc-d5fd-95d458ad865a"
      },
      "execution_count": 5,
      "outputs": [
        {
          "metadata": {
            "tags": null
          },
          "name": "stdout",
          "output_type": "stream",
          "text": [
            "the square of 100 is: 10000\n",
            "the square of 102 is: 10404\n",
            "the square of 104 is: 10816\n",
            "the square of 106 is: 11236\n",
            "the square of 108 is: 11664\n",
            "the square of 110 is: 12100\n",
            "the square of 112 is: 12544\n",
            "the square of 114 is: 12996\n",
            "the square of 116 is: 13456\n",
            "the square of 118 is: 13924\n",
            "the square of 120 is: 14400\n",
            "the square of 122 is: 14884\n",
            "the square of 124 is: 15376\n",
            "the square of 126 is: 15876\n",
            "the square of 128 is: 16384\n",
            "the square of 130 is: 16900\n",
            "the square of 132 is: 17424\n",
            "the square of 134 is: 17956\n",
            "the square of 136 is: 18496\n",
            "the square of 138 is: 19044\n",
            "the square of 140 is: 19600\n",
            "the square of 142 is: 20164\n",
            "the square of 144 is: 20736\n",
            "the square of 146 is: 21316\n",
            "the square of 148 is: 21904\n",
            "the square of 150 is: 22500\n",
            "the square of 152 is: 23104\n",
            "the square of 154 is: 23716\n",
            "the square of 156 is: 24336\n",
            "the square of 158 is: 24964\n",
            "the square of 160 is: 25600\n",
            "the square of 162 is: 26244\n",
            "the square of 164 is: 26896\n",
            "the square of 166 is: 27556\n",
            "the square of 168 is: 28224\n",
            "the square of 170 is: 28900\n",
            "the square of 172 is: 29584\n",
            "the square of 174 is: 30276\n",
            "the square of 176 is: 30976\n",
            "the square of 178 is: 31684\n",
            "the square of 180 is: 32400\n",
            "the square of 182 is: 33124\n",
            "the square of 184 is: 33856\n",
            "the square of 186 is: 34596\n",
            "the square of 188 is: 35344\n",
            "the square of 190 is: 36100\n",
            "the square of 192 is: 36864\n",
            "the square of 194 is: 37636\n",
            "the square of 196 is: 38416\n",
            "the square of 198 is: 39204\n",
            "the square of 200 is: 40000\n"
          ]
        }
      ]
    },
    {
      "cell_type": "code",
      "source": [
        "def count_words(input_text):\n",
        "    # Split the text into words based on whitespace\n",
        "    words = input_text.split()\n",
        "\n",
        "    # Create an empty dictionary to store word counts\n",
        "    word_count = {}\n",
        "\n",
        "    # Count each word\n",
        "    for word in words:\n",
        "        if word in word_count:\n",
        "            word_count[word] += 1\n",
        "        else:\n",
        "            word_count[word] = 1\n",
        "\n",
        "    return word_count\n",
        "\n",
        "# Example input\n",
        "input_text = \"This is a sample text. This text will be used to demonstrate the word counter.\"\n",
        "\n",
        "# Get word counts\n",
        "result = count_words(input_text)\n",
        "\n",
        "# Display the result\n",
        "for word, count in result.items():\n",
        "    print(f\"'{word}': {count}\")\n"
      ],
      "metadata": {
        "colab": {
          "base_uri": "https://localhost:8080/"
        },
        "id": "N-bu_bu4eLaD",
        "outputId": "8339ee85-d531-427a-8260-6f247cef46c6"
      },
      "execution_count": 7,
      "outputs": [
        {
          "output_type": "stream",
          "name": "stdout",
          "text": [
            "'This': 2\n",
            "'is': 1\n",
            "'a': 1\n",
            "'sample': 1\n",
            "'text.': 1\n",
            "'text': 1\n",
            "'will': 1\n",
            "'be': 1\n",
            "'used': 1\n",
            "'to': 1\n",
            "'demonstrate': 1\n",
            "'the': 1\n",
            "'word': 1\n",
            "'counter.': 1\n"
          ]
        }
      ]
    },
    {
      "cell_type": "code",
      "source": [
        "import string\n",
        "\n",
        "def is_palindrome(s):\n",
        "\n",
        "    s = s.lower()\n",
        "\n",
        "    s = ''.join(char for char in s if char in string.ascii_lowercase + string.digits)\n",
        "\n",
        "    return s == s[::-1]\n",
        "\n",
        "print(is_palindrome(\"No lemon, no melon\"))\n",
        "print(is_palindrome(\"kanak\"))\n",
        "print(is_palindrome(\"janhavi\"))\n"
      ],
      "metadata": {
        "colab": {
          "base_uri": "https://localhost:8080/"
        },
        "id": "BscyNmabGcPg",
        "outputId": "30e67876-c997-4e87-bbee-f855abdb946f"
      },
      "execution_count": 11,
      "outputs": [
        {
          "output_type": "stream",
          "name": "stdout",
          "text": [
            "True\n",
            "True\n",
            "False\n"
          ]
        }
      ]
    },
    {
      "cell_type": "markdown",
      "source": [
        "import string\n",
        "This imports Python’s built-in string module\n",
        "We use string.ascii_lowercase which is just the string\n",
        "\n",
        "s = s.lower()\n",
        "This converts the entire input string to lowercase.\n",
        "This ensures that capital letters don’t affect the palindrome check.\n",
        "Example: 'A' and 'a' should be treated the same.\n",
        "\n",
        "''.join(...) builds a new string by looping through each char in s\n",
        "The loop keeps only letters (a-z) and digits (0-9)\n",
        "Spaces, commas, periods, and other punctuation are removed\n",
        "\n",
        "\n",
        "s[::-1] is Python’s slicing syntax to reverse a string\n",
        "If the cleaned string is the same as its reverse, it’s a palindrome\n",
        "\n",
        "\n"
      ],
      "metadata": {
        "id": "l-ShVM2kHPUY"
      }
    }
  ]
}